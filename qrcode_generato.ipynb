{
 "cells": [
  {
   "cell_type": "code",
   "execution_count": null,
   "id": "881105c8",
   "metadata": {},
   "outputs": [],
   "source": [
    "#qrcode generator for any link"
   ]
  },
  {
   "cell_type": "code",
   "execution_count": 5,
   "id": "60cdb047",
   "metadata": {},
   "outputs": [
    {
     "name": "stdout",
     "output_type": "stream",
     "text": [
      "Collecting qrcode\n",
      "  Downloading qrcode-7.4.2-py3-none-any.whl (46 kB)\n",
      "     ---------------------------------------- 46.2/46.2 kB 1.2 MB/s eta 0:00:00\n",
      "Requirement already satisfied: typing-extensions in c:\\users\\kiit\\anaconda3\\lib\\site-packages (from qrcode) (4.3.0)\n",
      "Requirement already satisfied: colorama in c:\\users\\kiit\\anaconda3\\lib\\site-packages (from qrcode) (0.4.5)\n",
      "Collecting pypng\n",
      "  Downloading pypng-0.20220715.0-py3-none-any.whl (58 kB)\n",
      "     ---------------------------------------- 58.1/58.1 kB 3.0 MB/s eta 0:00:00\n",
      "Installing collected packages: pypng, qrcode\n",
      "Successfully installed pypng-0.20220715.0 qrcode-7.4.2\n",
      "Note: you may need to restart the kernel to use updated packages.\n"
     ]
    }
   ],
   "source": [
    "pip install qrcode"
   ]
  },
  {
   "cell_type": "code",
   "execution_count": 9,
   "id": "314c65a9",
   "metadata": {},
   "outputs": [
    {
     "name": "stdout",
     "output_type": "stream",
     "text": [
      "Requirement already satisfied: image in c:\\users\\kiit\\anaconda3\\lib\\site-packages (1.5.33)\n",
      "Requirement already satisfied: django in c:\\users\\kiit\\anaconda3\\lib\\site-packages (from image) (4.1.7)\n",
      "Requirement already satisfied: six in c:\\users\\kiit\\anaconda3\\lib\\site-packages (from image) (1.16.0)\n",
      "Requirement already satisfied: pillow in c:\\users\\kiit\\anaconda3\\lib\\site-packages (from image) (9.2.0)\n",
      "Requirement already satisfied: sqlparse>=0.2.2 in c:\\users\\kiit\\anaconda3\\lib\\site-packages (from django->image) (0.4.3)\n",
      "Requirement already satisfied: asgiref<4,>=3.5.2 in c:\\users\\kiit\\anaconda3\\lib\\site-packages (from django->image) (3.6.0)\n",
      "Requirement already satisfied: tzdata in c:\\users\\kiit\\anaconda3\\lib\\site-packages (from django->image) (2022.7)\n",
      "Note: you may need to restart the kernel to use updated packages.\n"
     ]
    }
   ],
   "source": [
    "pip install image"
   ]
  },
  {
   "cell_type": "code",
   "execution_count": 3,
   "id": "e7aea081",
   "metadata": {},
   "outputs": [],
   "source": [
    "import qrcode\n",
    "import image\n",
    "qr =qrcode.QRCode(\n",
    "    version = 15,             #15 means the version of the qrcode\n",
    "    box_size = 10,            #size of the box where qrcode will be displayed \n",
    "    border = 5                 # White part of image - border in all white sides\n",
    ")\n"
   ]
  },
  {
   "cell_type": "code",
   "execution_count": 6,
   "id": "8c28d1d5",
   "metadata": {},
   "outputs": [],
   "source": [
    "#input data\n",
    "#place any link for which you want to create qrcode\n",
    "data = \"https://www.google.com/\"\n",
    "#You can also place normal texts in order to create qrcode \n",
    "qr.add_data(data)\n",
    "qr.make(fit = True)"
   ]
  },
  {
   "cell_type": "code",
   "execution_count": 8,
   "id": "4df3fd4d",
   "metadata": {},
   "outputs": [],
   "source": [
    "img = qr.make_image(fill = \"black\", back_color = \"white\")\n",
    "img.save(\"test.png\")"
   ]
  },
  {
   "cell_type": "code",
   "execution_count": null,
   "id": "a921101f",
   "metadata": {},
   "outputs": [],
   "source": []
  },
  {
   "cell_type": "code",
   "execution_count": null,
   "id": "dd02e761",
   "metadata": {},
   "outputs": [],
   "source": []
  },
  {
   "cell_type": "code",
   "execution_count": null,
   "id": "4f659133",
   "metadata": {},
   "outputs": [],
   "source": []
  }
 ],
 "metadata": {
  "kernelspec": {
   "display_name": "Python 3 (ipykernel)",
   "language": "python",
   "name": "python3"
  },
  "language_info": {
   "codemirror_mode": {
    "name": "ipython",
    "version": 3
   },
   "file_extension": ".py",
   "mimetype": "text/x-python",
   "name": "python",
   "nbconvert_exporter": "python",
   "pygments_lexer": "ipython3",
   "version": "3.9.13"
  }
 },
 "nbformat": 4,
 "nbformat_minor": 5
}
